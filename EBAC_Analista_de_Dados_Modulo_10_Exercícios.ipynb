{
  "nbformat": 4,
  "nbformat_minor": 0,
  "metadata": {
    "colab": {
      "provenance": [],
      "authorship_tag": "ABX9TyNzb2U0n0KebgDWLcQEpGq4",
      "include_colab_link": true
    },
    "kernelspec": {
      "name": "python3",
      "display_name": "Python 3"
    },
    "language_info": {
      "name": "python"
    }
  },
  "cells": [
    {
      "cell_type": "markdown",
      "metadata": {
        "id": "view-in-github",
        "colab_type": "text"
      },
      "source": [
        "<a href=\"https://colab.research.google.com/github/PedroHudson/EBAC_Analise_de_Dados/blob/main/EBAC_Analista_de_Dados_Modulo_10_Exerc%C3%ADcios.ipynb\" target=\"_parent\"><img src=\"https://colab.research.google.com/assets/colab-badge.svg\" alt=\"Open In Colab\"/></a>"
      ]
    },
    {
      "cell_type": "markdown",
      "source": [
        "**1º Exercício: Excel para CSV**"
      ],
      "metadata": {
        "id": "TAhNl5QlU-6j"
      }
    },
    {
      "cell_type": "markdown",
      "source": [
        "Utilizando o pacote Python openpyxl, extraia as colunas id, sexo e idade para os clientes inadimplentes (default = 1 ) e solteiros (estado_civil = 'solteiro').\n",
        "\n",
        "Salve os dados extraídos no arquivo csv “credito.csv” separado por ; ."
      ],
      "metadata": {
        "id": "yhhznIV8V2OW"
      }
    },
    {
      "cell_type": "markdown",
      "source": [
        "Faça o download do arquivo `credito.xlsx` com a célula de código abaixo."
      ],
      "metadata": {
        "id": "DE22hsGvV7_j"
      }
    },
    {
      "cell_type": "code",
      "source": [
        "!wget --show-progress --continue -O ./credito.xlsx https://raw.githubusercontent.com/andre-marcos-perez/ebac-course-utils/main/dataset/credito.xlsx"
      ],
      "metadata": {
        "colab": {
          "base_uri": "https://localhost:8080/"
        },
        "id": "vs802TEYWLom",
        "outputId": "851ccdc0-7e54-4d3c-a375-25cfbe13648a"
      },
      "execution_count": 1,
      "outputs": [
        {
          "output_type": "stream",
          "name": "stdout",
          "text": [
            "--2024-02-21 16:28:23--  https://raw.githubusercontent.com/andre-marcos-perez/ebac-course-utils/main/dataset/credito.xlsx\n",
            "Resolving raw.githubusercontent.com (raw.githubusercontent.com)... 185.199.108.133, 185.199.109.133, 185.199.110.133, ...\n",
            "Connecting to raw.githubusercontent.com (raw.githubusercontent.com)|185.199.108.133|:443... connected.\n",
            "HTTP request sent, awaiting response... 416 Range Not Satisfiable\n",
            "\n",
            "    The file is already fully retrieved; nothing to do.\n",
            "\n"
          ]
        }
      ]
    },
    {
      "cell_type": "code",
      "source": [
        "!pip install openpyxl"
      ],
      "metadata": {
        "colab": {
          "base_uri": "https://localhost:8080/"
        },
        "id": "Pv8U1kaPbcqF",
        "outputId": "55e2f81a-e898-40b1-9d30-4ef974ccf956"
      },
      "execution_count": 2,
      "outputs": [
        {
          "output_type": "stream",
          "name": "stdout",
          "text": [
            "Requirement already satisfied: openpyxl in /usr/local/lib/python3.10/dist-packages (3.1.2)\n",
            "Requirement already satisfied: et-xmlfile in /usr/local/lib/python3.10/dist-packages (from openpyxl) (1.1.0)\n"
          ]
        }
      ]
    },
    {
      "cell_type": "code",
      "source": [
        "from openpyxl import load_workbook\n",
        "import csv\n",
        "\n",
        "planilhas = load_workbook(filename='credito.xlsx')\n",
        "planilha = planilhas.active"
      ],
      "metadata": {
        "id": "ls2hV6leco5a"
      },
      "execution_count": 3,
      "outputs": []
    },
    {
      "cell_type": "code",
      "source": [
        "default =[]\n",
        "\n",
        "cabecalho = next(planilha.values)\n",
        "indice_default = cabecalho.index('default')\n",
        "default = [linha[indice_default] for linha in planilha.values if linha[indice_default] != 'default']\n",
        "\n",
        "print(len(default))"
      ],
      "metadata": {
        "colab": {
          "base_uri": "https://localhost:8080/"
        },
        "id": "CXnLzKn0EaoW",
        "outputId": "04e896ae-c9e2-4cc9-844b-58f3083da080"
      },
      "execution_count": 4,
      "outputs": [
        {
          "output_type": "stream",
          "name": "stdout",
          "text": [
            "10127\n"
          ]
        }
      ]
    },
    {
      "cell_type": "code",
      "source": [
        "estado_civil =[]\n",
        "\n",
        "cabecalho = next(planilha.values)\n",
        "indice_estado_civil = cabecalho.index('estado_civil')\n",
        "estado_civil = [linha[indice_estado_civil] for linha in planilha.values if linha[indice_estado_civil] != 'estado_civil']\n",
        "\n",
        "print(len(estado_civil))"
      ],
      "metadata": {
        "colab": {
          "base_uri": "https://localhost:8080/"
        },
        "id": "YlrcMKvYFSou",
        "outputId": "479c6536-c47b-42af-8915-4356b5da6b5d"
      },
      "execution_count": 5,
      "outputs": [
        {
          "output_type": "stream",
          "name": "stdout",
          "text": [
            "10127\n"
          ]
        }
      ]
    },
    {
      "cell_type": "code",
      "source": [
        "# Lista para armazenar os valores das colunas\n",
        "\n",
        "id = []\n",
        "idade = []\n",
        "sexo = []\n",
        "\n",
        "# Iterar sobre as linhas da planilha e extrair os valores das três colunas\n",
        "\n",
        "for linha in planilha.iter_rows(min_row=2, values_only=True):  # Ignorar a primeira linha se for o cabeçalho\n",
        "  if (linha[indice_default] == 1) and (linha[indice_estado_civil] == 'solteiro'):\n",
        "    id.append(linha[0])  # Coluna id\n",
        "    idade.append(linha[2])  # Coluna idade\n",
        "    sexo.append(linha[3])  # Coluna sexo\n",
        "\n",
        "\n",
        "# Escrever os valores extraídos em um arquivo CSV\n",
        "\n",
        "with open('credito.csv', 'w', newline='', encoding='utf-8') as arquivo:\n",
        "    writer = csv.writer(arquivo)\n",
        "    writer.writerow(['ID', 'Idade', 'Sexo'])  # Escreve o cabeçalho\n",
        "\n",
        "    # Escreve os valores das colunas no arquivo CSV\n",
        "    for item in zip(id, idade, sexo):\n",
        "        writer.writerow(item)"
      ],
      "metadata": {
        "id": "DudCrESWizLA"
      },
      "execution_count": 6,
      "outputs": []
    },
    {
      "cell_type": "markdown",
      "source": [
        "**2º Exercício: Excel para JSON**"
      ],
      "metadata": {
        "id": "x7H6N9XzXEqR"
      }
    },
    {
      "cell_type": "markdown",
      "source": [
        "Como preparação para o próximo módulo, vamos trabalhar com o JSON, um formato semi-estruturado, muito utilizado em transmissão de dados da web e equivalente a um dicionário Python.\n",
        "\n",
        "Utilizando o pacote Python openpyxl, extraia os dados das colunas “escolaridade” e “tipo_cartao”, removendo duplicados. Com os dados, construa o dicionário Python “crédito” com a estrutura indicada no material de apoio.\n",
        "\n",
        "Para finalizar, utilize o código indicado no material de apoio para converter o dicionário “crédito” no formato JSON.\n",
        "\n",
        "Dica: Sua solução deve gerar o dicionário Python “crédito” igual ao exemplo, mas a ordem dos elementos pode variar tranquilamente. Uma excelente forma de remover elementos duplicados de uma lista é convertê-la para “set” e depois para “list” novamente. Encaminhe à equipe de tutoria o código com a solução do exercício."
      ],
      "metadata": {
        "id": "qfMYidGkXjYF"
      }
    },
    {
      "cell_type": "code",
      "source": [
        "import openpyxl\n",
        "\n",
        "arquivo_excel = openpyxl.load_workbook('credito.xlsx')\n",
        "planilha = arquivo_excel.active\n",
        "\n",
        "escolaridade_coluna = planilha['F'][1:]\n",
        "tipo_cartao_coluna = planilha['I'][1:]\n",
        "\n",
        "escolaridade = list(set(celula.value for celula in escolaridade_coluna))\n",
        "tipo_cartao = list(set(celula.value for celula in tipo_cartao_coluna))\n",
        "\n",
        "\n",
        "credito = {\n",
        "    'tipo_cartao': tipo_cartao,\n",
        "    'escolaridade': escolaridade\n",
        "}\n",
        "\n",
        "print(credito)"
      ],
      "metadata": {
        "colab": {
          "base_uri": "https://localhost:8080/"
        },
        "id": "Y50smURHX44P",
        "outputId": "e7bf7773-1942-4c0d-8b33-ea7cea4328f2"
      },
      "execution_count": 7,
      "outputs": [
        {
          "output_type": "stream",
          "name": "stdout",
          "text": [
            "{'tipo_cartao': ['platinum', 'silver', 'blue', 'gold'], 'escolaridade': ['graduacao', 'na', 'ensino medio', 'mestrado', 'doutorado', 'sem educacao formal']}\n"
          ]
        }
      ]
    },
    {
      "cell_type": "code",
      "source": [
        "import json\n",
        "\n",
        "credito_json = json.dumps(credito, indent=4)\n",
        "print(credito_json)"
      ],
      "metadata": {
        "colab": {
          "base_uri": "https://localhost:8080/"
        },
        "id": "YfH4NCh3a1Gj",
        "outputId": "e493e92a-5011-44bf-b93c-f0ce874f0510"
      },
      "execution_count": 8,
      "outputs": [
        {
          "output_type": "stream",
          "name": "stdout",
          "text": [
            "{\n",
            "    \"tipo_cartao\": [\n",
            "        \"platinum\",\n",
            "        \"silver\",\n",
            "        \"blue\",\n",
            "        \"gold\"\n",
            "    ],\n",
            "    \"escolaridade\": [\n",
            "        \"graduacao\",\n",
            "        \"na\",\n",
            "        \"ensino medio\",\n",
            "        \"mestrado\",\n",
            "        \"doutorado\",\n",
            "        \"sem educacao formal\"\n",
            "    ]\n",
            "}\n"
          ]
        }
      ]
    },
    {
      "cell_type": "markdown",
      "source": [
        "**3º Exercício BÔNUS: Texto para CSV**"
      ],
      "metadata": {
        "id": "E7N8XSfcbN6q"
      }
    },
    {
      "cell_type": "markdown",
      "source": [
        "No arquivo de texto `ebac.txt` você encontra o texto presente no rodapé da página de cursos da EBAC ([link](https://ebaconline.com.br/))."
      ],
      "metadata": {
        "id": "iZ_xNEN5bTqz"
      }
    },
    {
      "cell_type": "markdown",
      "source": [
        "**Arquivo TXT:** ebac.txt"
      ],
      "metadata": {
        "id": "YRKYsygrbioP"
      }
    },
    {
      "cell_type": "code",
      "source": [
        "%%writefile ebac.txt\n",
        "MÍDIAS SOCIAIS\n",
        "Instagram, Facebook, Youtube, LinkedIn\n",
        "\n",
        "CURSOS\n",
        "Software, Design, Marketing, Audiovisual, Programação & Data, Games\n",
        "\n",
        "WEBINARS\n",
        "Próximos, Anteriores\n",
        "\n",
        "SOBRE\n",
        "Sobre nós, Centro de carreiras, Vagas\n",
        "\n",
        "CONTATO\n",
        "WhatsApp +55 (11) 4200-2991\n",
        "Telefone +55 (11) 3030-3200\n",
        "\n",
        "BLOG\n",
        "Design, Audiovisual, Marketing"
      ],
      "metadata": {
        "colab": {
          "base_uri": "https://localhost:8080/"
        },
        "id": "dcN_Vhjabo69",
        "outputId": "3d0012b7-0265-4421-b5f5-e143617dc47b"
      },
      "execution_count": 9,
      "outputs": [
        {
          "output_type": "stream",
          "name": "stdout",
          "text": [
            "Overwriting ebac.txt\n"
          ]
        }
      ]
    },
    {
      "cell_type": "markdown",
      "source": [
        "Extraia os números de contato do arquivo texto `ebac.txt` e salve-os no arquivo csv `contato_ebac.csv` com o separador `;` no seguinte formato:\n",
        "\n",
        "```\n",
        "tipo;numero\n",
        "whatsapp;+551142002991\n",
        "telefone;+551130303200\n",
        "```\n",
        "\n",
        "**Nota:** Escreva o código da sua solução abaixo em uma ou mais células, você não precisa enviar o arquivo csv gerado."
      ],
      "metadata": {
        "id": "hymqr9ixbyOu"
      }
    },
    {
      "cell_type": "code",
      "source": [
        "import re\n",
        "\n",
        "def extrair_telefones(texto):\n",
        "    padrao_telefone = re.compile(r'(\\bWhatsApp\\b|\\bTelefone\\b)\\s*[:\\.;]?\\s*(\\+\\d{2}\\s?\\(\\d{2,}\\)\\s?\\d{4,}-?\\d{4})')\n",
        "\n",
        "    telefones_encontrados = padrao_telefone.findall(texto)\n",
        "    return telefones_encontrados\n",
        "\n",
        "\n",
        "with open('ebac.txt', mode='r', encoding='utf8') as arquivo:\n",
        "    conteudo = arquivo.read()\n",
        "\n",
        "telefones = extrair_telefones(conteudo)\n",
        "\n",
        "contatos = [(tipo.lower(), numero) for tipo, numero in telefones]\n",
        "\n",
        "with open('contato_ebac.csv', mode='w', encoding='utf8', newline='') as arquivo_csv:\n",
        "    escritor_csv = csv.writer(arquivo_csv, delimiter=';')\n",
        "    escritor_csv.writerow(['tipo', 'numero'])\n",
        "    escritor_csv.writerows(contatos)\n",
        "\n",
        "print(contatos)"
      ],
      "metadata": {
        "colab": {
          "base_uri": "https://localhost:8080/"
        },
        "id": "VDEDLb5VbzQ2",
        "outputId": "d060e453-3cad-4738-c4de-7670b06229c9"
      },
      "execution_count": 10,
      "outputs": [
        {
          "output_type": "stream",
          "name": "stdout",
          "text": [
            "[('whatsapp', '+55 (11) 4200-2991'), ('telefone', '+55 (11) 3030-3200')]\n"
          ]
        }
      ]
    }
  ]
}