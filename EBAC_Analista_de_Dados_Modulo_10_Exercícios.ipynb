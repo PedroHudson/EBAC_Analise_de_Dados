{
  "nbformat": 4,
  "nbformat_minor": 0,
  "metadata": {
    "colab": {
      "provenance": [],
      "authorship_tag": "ABX9TyN/2WzyoZmoVA43JnbJ5FIz",
      "include_colab_link": true
    },
    "kernelspec": {
      "name": "python3",
      "display_name": "Python 3"
    },
    "language_info": {
      "name": "python"
    }
  },
  "cells": [
    {
      "cell_type": "markdown",
      "metadata": {
        "id": "view-in-github",
        "colab_type": "text"
      },
      "source": [
        "<a href=\"https://colab.research.google.com/github/PedroHudson/EBAC_Analise_de_Dados/blob/main/EBAC_Analista_de_Dados_Modulo_10_Exerc%C3%ADcios.ipynb\" target=\"_parent\"><img src=\"https://colab.research.google.com/assets/colab-badge.svg\" alt=\"Open In Colab\"/></a>"
      ]
    },
    {
      "cell_type": "markdown",
      "source": [
        "**1º Exercício: Excel para CSV**"
      ],
      "metadata": {
        "id": "TAhNl5QlU-6j"
      }
    },
    {
      "cell_type": "markdown",
      "source": [
        "Utilizando o pacote Python openpyxl, extraia as colunas id, sexo e idade para os clientes inadimplentes (default = 1 ) e solteiros (estado_civil = 'solteiro').\n",
        "\n",
        "Salve os dados extraídos no arquivo csv “credito.csv” separado por ; ."
      ],
      "metadata": {
        "id": "yhhznIV8V2OW"
      }
    },
    {
      "cell_type": "markdown",
      "source": [
        "Faça o download do arquivo `credito.xlsx` com a célula de código abaixo."
      ],
      "metadata": {
        "id": "DE22hsGvV7_j"
      }
    },
    {
      "cell_type": "code",
      "source": [
        "!wget --show-progress --continue -O ./credito.xlsx https://raw.githubusercontent.com/andre-marcos-perez/ebac-course-utils/main/dataset/credito.xlsx"
      ],
      "metadata": {
        "colab": {
          "base_uri": "https://localhost:8080/"
        },
        "id": "vs802TEYWLom",
        "outputId": "66c46686-f121-43e8-966e-bf779926b83a"
      },
      "execution_count": 1,
      "outputs": [
        {
          "output_type": "stream",
          "name": "stdout",
          "text": [
            "--2024-02-15 22:03:50--  https://raw.githubusercontent.com/andre-marcos-perez/ebac-course-utils/main/dataset/credito.xlsx\n",
            "Resolving raw.githubusercontent.com (raw.githubusercontent.com)... 185.199.110.133, 185.199.111.133, 185.199.108.133, ...\n",
            "Connecting to raw.githubusercontent.com (raw.githubusercontent.com)|185.199.110.133|:443... connected.\n",
            "HTTP request sent, awaiting response... 200 OK\n",
            "Length: 748185 (731K) [application/octet-stream]\n",
            "Saving to: ‘./credito.xlsx’\n",
            "\n",
            "\r./credito.xlsx        0%[                    ]       0  --.-KB/s               \r./credito.xlsx      100%[===================>] 730.65K  --.-KB/s    in 0.06s   \n",
            "\n",
            "2024-02-15 22:03:50 (12.5 MB/s) - ‘./credito.xlsx’ saved [748185/748185]\n",
            "\n"
          ]
        }
      ]
    },
    {
      "cell_type": "code",
      "source": [
        "!pip install openpyxl"
      ],
      "metadata": {
        "colab": {
          "base_uri": "https://localhost:8080/"
        },
        "id": "Pv8U1kaPbcqF",
        "outputId": "74157e50-b2f7-4eac-9a88-475ba12f07eb"
      },
      "execution_count": 2,
      "outputs": [
        {
          "output_type": "stream",
          "name": "stdout",
          "text": [
            "Requirement already satisfied: openpyxl in /usr/local/lib/python3.10/dist-packages (3.1.2)\n",
            "Requirement already satisfied: et-xmlfile in /usr/local/lib/python3.10/dist-packages (from openpyxl) (1.1.0)\n"
          ]
        }
      ]
    },
    {
      "cell_type": "code",
      "source": [
        "from openpyxl import load_workbook\n",
        "import csv\n",
        "\n",
        "planilhas = load_workbook(filename='credito.xlsx')\n",
        "planilha = planilhas.active"
      ],
      "metadata": {
        "id": "ls2hV6leco5a"
      },
      "execution_count": 3,
      "outputs": []
    },
    {
      "cell_type": "code",
      "source": [
        "default =[]\n",
        "\n",
        "cabecalho = next(planilha.values)\n",
        "indice_default = cabecalho.index('default')\n",
        "default = [linha[indice_default] for linha in planilha.values if linha[indice_default] != 'default']\n",
        "\n",
        "#print(default)\n",
        "print(len(default))"
      ],
      "metadata": {
        "colab": {
          "base_uri": "https://localhost:8080/"
        },
        "id": "CXnLzKn0EaoW",
        "outputId": "8fdf53ee-9ce1-4b0e-f03d-4dfb4357d83c"
      },
      "execution_count": 4,
      "outputs": [
        {
          "output_type": "stream",
          "name": "stdout",
          "text": [
            "10127\n"
          ]
        }
      ]
    },
    {
      "cell_type": "code",
      "source": [
        "estado_civil =[]\n",
        "\n",
        "cabecalho = next(planilha.values)\n",
        "indice_estado_civil = cabecalho.index('estado_civil')\n",
        "estado_civil = [linha[indice_estado_civil] for linha in planilha.values if linha[indice_estado_civil] != 'estado_civil']\n",
        "\n",
        "#print(estado_civil)\n",
        "print(len(estado_civil))"
      ],
      "metadata": {
        "colab": {
          "base_uri": "https://localhost:8080/"
        },
        "id": "YlrcMKvYFSou",
        "outputId": "f86d55e5-3f82-4f43-f7b4-b7e2876bc425"
      },
      "execution_count": 5,
      "outputs": [
        {
          "output_type": "stream",
          "name": "stdout",
          "text": [
            "10127\n"
          ]
        }
      ]
    },
    {
      "cell_type": "code",
      "source": [
        "# Lista para armazenar os valores das colunas\n",
        "\n",
        "id = []\n",
        "idade = []\n",
        "sexo = []\n",
        "\n",
        "# Iterar sobre as linhas da planilha e extrair os valores das três colunas\n",
        "\n",
        "for linha in planilha.iter_rows(min_row=0, values_only=True):  # Ignorar a primeira linha se for o cabeçalho\n",
        "  if (linha[indice_default] == 1) and (linha[indice_estado_civil] == 'solteiro'):\n",
        "    id.append(linha[0])  # Coluna id\n",
        "    idade.append(linha[2])  # Coluna idade\n",
        "    sexo.append(linha[3])  # Coluna sexo\n",
        "\n",
        "# Imprimir os valores extraídos das três colunas\n",
        "#print(\"ID:\", id)\n",
        "print(len(id))\n",
        "#print(\"Idade:\", idade)\n",
        "print(len(idade))\n",
        "#print(\"Sexo:\", sexo)\n",
        "print(len(sexo))\n",
        "\n",
        "# Escrever os valores extraídos em um arquivo CSV\n",
        "\n",
        "with open('credito.csv', 'w', newline='', encoding='utf-8') as arquivo:\n",
        "    writer = csv.writer(arquivo)\n",
        "    writer.writerow(['ID', 'Idade', 'Sexo'])  # Escreve o cabeçalho\n",
        "\n",
        "    # Escreve os valores das colunas no arquivo CSV\n",
        "    for item in zip(id, idade, sexo):\n",
        "        writer.writerow(item)"
      ],
      "metadata": {
        "colab": {
          "base_uri": "https://localhost:8080/"
        },
        "id": "DudCrESWizLA",
        "outputId": "f02f2778-8476-4fb7-f908-b7dc6aec2589"
      },
      "execution_count": 7,
      "outputs": [
        {
          "output_type": "stream",
          "name": "stdout",
          "text": [
            "668\n",
            "668\n",
            "668\n"
          ]
        }
      ]
    }
  ]
}