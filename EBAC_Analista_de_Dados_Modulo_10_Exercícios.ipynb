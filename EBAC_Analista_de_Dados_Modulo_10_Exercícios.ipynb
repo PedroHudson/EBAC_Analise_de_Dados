{
  "nbformat": 4,
  "nbformat_minor": 0,
  "metadata": {
    "colab": {
      "provenance": [],
      "authorship_tag": "ABX9TyNEqRyMML76ZHDXARZ8pnEC",
      "include_colab_link": true
    },
    "kernelspec": {
      "name": "python3",
      "display_name": "Python 3"
    },
    "language_info": {
      "name": "python"
    }
  },
  "cells": [
    {
      "cell_type": "markdown",
      "metadata": {
        "id": "view-in-github",
        "colab_type": "text"
      },
      "source": [
        "<a href=\"https://colab.research.google.com/github/PedroHudson/EBAC_Analise_de_Dados/blob/main/EBAC_Analista_de_Dados_Modulo_10_Exerc%C3%ADcios.ipynb\" target=\"_parent\"><img src=\"https://colab.research.google.com/assets/colab-badge.svg\" alt=\"Open In Colab\"/></a>"
      ]
    },
    {
      "cell_type": "markdown",
      "source": [
        "**1º Exercício: Excel para CSV**"
      ],
      "metadata": {
        "id": "TAhNl5QlU-6j"
      }
    },
    {
      "cell_type": "markdown",
      "source": [
        "Utilizando o pacote Python openpyxl, extraia as colunas id, sexo e idade para os clientes inadimplentes (default = 1 ) e solteiros (estado_civil = 'solteiro').\n",
        "\n",
        "Salve os dados extraídos no arquivo csv “credito.csv” separado por ; ."
      ],
      "metadata": {
        "id": "yhhznIV8V2OW"
      }
    },
    {
      "cell_type": "markdown",
      "source": [
        "Faça o download do arquivo `credito.xlsx` com a célula de código abaixo."
      ],
      "metadata": {
        "id": "DE22hsGvV7_j"
      }
    },
    {
      "cell_type": "code",
      "source": [
        "!wget --show-progress --continue -O ./credito.xlsx https://raw.githubusercontent.com/andre-marcos-perez/ebac-course-utils/main/dataset/credito.xlsx"
      ],
      "metadata": {
        "colab": {
          "base_uri": "https://localhost:8080/"
        },
        "id": "vs802TEYWLom",
        "outputId": "57c1b7d0-3ae3-4dbd-99cb-8fdc430533d0"
      },
      "execution_count": 1,
      "outputs": [
        {
          "output_type": "stream",
          "name": "stdout",
          "text": [
            "--2024-02-21 15:45:36--  https://raw.githubusercontent.com/andre-marcos-perez/ebac-course-utils/main/dataset/credito.xlsx\n",
            "Resolving raw.githubusercontent.com (raw.githubusercontent.com)... 185.199.108.133, 185.199.111.133, 185.199.110.133, ...\n",
            "Connecting to raw.githubusercontent.com (raw.githubusercontent.com)|185.199.108.133|:443... connected.\n",
            "HTTP request sent, awaiting response... 416 Range Not Satisfiable\n",
            "\n",
            "    The file is already fully retrieved; nothing to do.\n",
            "\n"
          ]
        }
      ]
    },
    {
      "cell_type": "code",
      "source": [
        "!pip install openpyxl"
      ],
      "metadata": {
        "colab": {
          "base_uri": "https://localhost:8080/"
        },
        "id": "Pv8U1kaPbcqF",
        "outputId": "4f4f7208-b18f-43f4-e30b-1aa8ef1782ff"
      },
      "execution_count": 2,
      "outputs": [
        {
          "output_type": "stream",
          "name": "stdout",
          "text": [
            "Requirement already satisfied: openpyxl in /usr/local/lib/python3.10/dist-packages (3.1.2)\n",
            "Requirement already satisfied: et-xmlfile in /usr/local/lib/python3.10/dist-packages (from openpyxl) (1.1.0)\n"
          ]
        }
      ]
    },
    {
      "cell_type": "code",
      "source": [
        "from openpyxl import load_workbook\n",
        "import csv\n",
        "\n",
        "planilhas = load_workbook(filename='credito.xlsx')\n",
        "planilha = planilhas.active"
      ],
      "metadata": {
        "id": "ls2hV6leco5a"
      },
      "execution_count": 3,
      "outputs": []
    },
    {
      "cell_type": "code",
      "source": [
        "default =[]\n",
        "\n",
        "cabecalho = next(planilha.values)\n",
        "indice_default = cabecalho.index('default')\n",
        "default = [linha[indice_default] for linha in planilha.values if linha[indice_default] != 'default']\n",
        "\n",
        "print(len(default))"
      ],
      "metadata": {
        "colab": {
          "base_uri": "https://localhost:8080/"
        },
        "id": "CXnLzKn0EaoW",
        "outputId": "3cf56cf9-2168-4630-89cd-323cb523b9bc"
      },
      "execution_count": 4,
      "outputs": [
        {
          "output_type": "stream",
          "name": "stdout",
          "text": [
            "10127\n"
          ]
        }
      ]
    },
    {
      "cell_type": "code",
      "source": [
        "estado_civil =[]\n",
        "\n",
        "cabecalho = next(planilha.values)\n",
        "indice_estado_civil = cabecalho.index('estado_civil')\n",
        "estado_civil = [linha[indice_estado_civil] for linha in planilha.values if linha[indice_estado_civil] != 'estado_civil']\n",
        "\n",
        "print(len(estado_civil))"
      ],
      "metadata": {
        "colab": {
          "base_uri": "https://localhost:8080/"
        },
        "id": "YlrcMKvYFSou",
        "outputId": "fe059a3e-6efb-4c1b-c241-b97f21faaa48"
      },
      "execution_count": 5,
      "outputs": [
        {
          "output_type": "stream",
          "name": "stdout",
          "text": [
            "10127\n"
          ]
        }
      ]
    },
    {
      "cell_type": "code",
      "source": [
        "# Lista para armazenar os valores das colunas\n",
        "\n",
        "id = []\n",
        "idade = []\n",
        "sexo = []\n",
        "\n",
        "# Iterar sobre as linhas da planilha e extrair os valores das três colunas\n",
        "\n",
        "for linha in planilha.iter_rows(min_row=2, values_only=True):  # Ignorar a primeira linha se for o cabeçalho\n",
        "  if (linha[indice_default] == 1) and (linha[indice_estado_civil] == 'solteiro'):\n",
        "    id.append(linha[0])  # Coluna id\n",
        "    idade.append(linha[2])  # Coluna idade\n",
        "    sexo.append(linha[3])  # Coluna sexo\n",
        "\n",
        "\n",
        "# Escrever os valores extraídos em um arquivo CSV\n",
        "\n",
        "with open('credito.csv', 'w', newline='', encoding='utf-8') as arquivo:\n",
        "    writer = csv.writer(arquivo)\n",
        "    writer.writerow(['ID', 'Idade', 'Sexo'])  # Escreve o cabeçalho\n",
        "\n",
        "    # Escreve os valores das colunas no arquivo CSV\n",
        "    for item in zip(id, idade, sexo):\n",
        "        writer.writerow(item)"
      ],
      "metadata": {
        "id": "DudCrESWizLA"
      },
      "execution_count": 6,
      "outputs": []
    },
    {
      "cell_type": "markdown",
      "source": [
        "**2º Exercício: Excel para JSON**"
      ],
      "metadata": {
        "id": "x7H6N9XzXEqR"
      }
    },
    {
      "cell_type": "markdown",
      "source": [
        "Como preparação para o próximo módulo, vamos trabalhar com o JSON, um formato semi-estruturado, muito utilizado em transmissão de dados da web e equivalente a um dicionário Python.\n",
        "\n",
        "Utilizando o pacote Python openpyxl, extraia os dados das colunas “escolaridade” e “tipo_cartao”, removendo duplicados. Com os dados, construa o dicionário Python “crédito” com a estrutura indicada no material de apoio.\n",
        "\n",
        "Para finalizar, utilize o código indicado no material de apoio para converter o dicionário “crédito” no formato JSON.\n",
        "\n",
        "Dica: Sua solução deve gerar o dicionário Python “crédito” igual ao exemplo, mas a ordem dos elementos pode variar tranquilamente. Uma excelente forma de remover elementos duplicados de uma lista é convertê-la para “set” e depois para “list” novamente. Encaminhe à equipe de tutoria o código com a solução do exercício."
      ],
      "metadata": {
        "id": "qfMYidGkXjYF"
      }
    },
    {
      "cell_type": "code",
      "source": [
        "import openpyxl\n",
        "\n",
        "arquivo_excel = openpyxl.load_workbook('credito.xlsx')\n",
        "planilha = arquivo_excel.active\n",
        "\n",
        "escolaridade_coluna = planilha['F'][1:]\n",
        "tipo_cartao_coluna = planilha['I'][1:]\n",
        "\n",
        "escolaridade = list(set(celula.value for celula in escolaridade_coluna))\n",
        "tipo_cartao = list(set(celula.value for celula in tipo_cartao_coluna))\n",
        "\n",
        "\n",
        "credito = {\n",
        "    'tipo_cartao': tipo_cartao,\n",
        "    'escolaridade': escolaridade\n",
        "}\n",
        "\n",
        "print(credito)"
      ],
      "metadata": {
        "colab": {
          "base_uri": "https://localhost:8080/"
        },
        "id": "Y50smURHX44P",
        "outputId": "ff198b18-4a3a-4b87-953e-39059495e826"
      },
      "execution_count": 9,
      "outputs": [
        {
          "output_type": "stream",
          "name": "stdout",
          "text": [
            "{'tipo_cartao': ['gold', 'silver', 'platinum', 'blue'], 'escolaridade': ['ensino medio', 'sem educacao formal', 'doutorado', 'na', 'graduacao', 'mestrado']}\n"
          ]
        }
      ]
    },
    {
      "cell_type": "code",
      "source": [
        "import json\n",
        "\n",
        "credito_json = json.dumps(credito, indent=4)\n",
        "print(credito_json)"
      ],
      "metadata": {
        "id": "YfH4NCh3a1Gj",
        "outputId": "894fae11-451a-41d4-e091-513132b592e8",
        "colab": {
          "base_uri": "https://localhost:8080/"
        }
      },
      "execution_count": 10,
      "outputs": [
        {
          "output_type": "stream",
          "name": "stdout",
          "text": [
            "{\n",
            "    \"tipo_cartao\": [\n",
            "        \"gold\",\n",
            "        \"silver\",\n",
            "        \"platinum\",\n",
            "        \"blue\"\n",
            "    ],\n",
            "    \"escolaridade\": [\n",
            "        \"ensino medio\",\n",
            "        \"sem educacao formal\",\n",
            "        \"doutorado\",\n",
            "        \"na\",\n",
            "        \"graduacao\",\n",
            "        \"mestrado\"\n",
            "    ]\n",
            "}\n"
          ]
        }
      ]
    }
  ]
}