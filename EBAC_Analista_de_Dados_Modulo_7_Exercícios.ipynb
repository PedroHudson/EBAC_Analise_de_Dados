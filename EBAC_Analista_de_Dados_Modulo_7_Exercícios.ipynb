{
  "nbformat": 4,
  "nbformat_minor": 0,
  "metadata": {
    "colab": {
      "provenance": [],
      "authorship_tag": "ABX9TyNHM2GG4mFXyy04BD89RNQp",
      "include_colab_link": true
    },
    "kernelspec": {
      "name": "python3",
      "display_name": "Python 3"
    },
    "language_info": {
      "name": "python"
    }
  },
  "cells": [
    {
      "cell_type": "markdown",
      "metadata": {
        "id": "view-in-github",
        "colab_type": "text"
      },
      "source": [
        "<a href=\"https://colab.research.google.com/github/PedroHudson/EBAC_Analise_de_Dados/blob/main/EBAC_Analista_de_Dados_Modulo_7_Exerc%C3%ADcios.ipynb\" target=\"_parent\"><img src=\"https://colab.research.google.com/assets/colab-badge.svg\" alt=\"Open In Colab\"/></a>"
      ]
    },
    {
      "cell_type": "markdown",
      "source": [
        "**1º Exercício: Erros de sintaxe**"
      ],
      "metadata": {
        "id": "swZLEkxMqQKN"
      }
    },
    {
      "cell_type": "markdown",
      "source": [
        "Neste exercício, identifique o erro de sintaxe nos trechos dos quatro códigos indicados no material de apoio e corrija-os para que o trecho de código funcione."
      ],
      "metadata": {
        "id": "6ApFI-GTqa1j"
      }
    },
    {
      "cell_type": "markdown",
      "source": [
        " - Laços de repetição."
      ],
      "metadata": {
        "id": "UP8VkULmqoUa"
      }
    },
    {
      "cell_type": "code",
      "source": [
        "credito = {'123': 750, '456': 812, '789': 980}\n",
        "\n",
        "for chave, valor in credito.items():\n",
        "  print(f'Para o documento {chave}, o valor do escore de crédito é {valor}.')"
      ],
      "metadata": {
        "colab": {
          "base_uri": "https://localhost:8080/"
        },
        "id": "o78Nbs3tlpGO",
        "outputId": "1690ba46-5977-43d8-c22c-1384a0025daa"
      },
      "execution_count": 1,
      "outputs": [
        {
          "output_type": "stream",
          "name": "stdout",
          "text": [
            "Para o documento 123, o valor do escore de crédito é 750.\n",
            "Para o documento 456, o valor do escore de crédito é 812.\n",
            "Para o documento 789, o valor do escore de crédito é 980.\n"
          ]
        }
      ]
    },
    {
      "cell_type": "markdown",
      "source": [
        " - Funções"
      ],
      "metadata": {
        "id": "q6F32XA9qqUB"
      }
    },
    {
      "cell_type": "code",
      "source": [
        "def pi() -> float:\n",
        "  return 3.14159265359\n",
        "\n",
        "pi = pi()\n",
        "print(pi)"
      ],
      "metadata": {
        "colab": {
          "base_uri": "https://localhost:8080/"
        },
        "id": "Dt8IqAyUmXMz",
        "outputId": "fbd6d137-622a-4636-c100-8e73c9a8d19a"
      },
      "execution_count": 2,
      "outputs": [
        {
          "output_type": "stream",
          "name": "stdout",
          "text": [
            "3.14159265359\n"
          ]
        }
      ]
    },
    {
      "cell_type": "markdown",
      "source": [
        "- Programação Funcional"
      ],
      "metadata": {
        "id": "S5GioArxqt5_"
      }
    },
    {
      "cell_type": "code",
      "source": [
        "emails = ['andre.perez@gmail.com', 'andre.perez@live.com', 'andre.perez@yahoo.com']\n",
        "provedor_da_google = lambda email: 'gmail in email'\n",
        "\n",
        "emails_google = filter(provedor_da_google, emails)\n",
        "print(list(emails_google))"
      ],
      "metadata": {
        "colab": {
          "base_uri": "https://localhost:8080/"
        },
        "id": "7kQi7g_Smlj4",
        "outputId": "6124aaa1-5a6e-454c-e62f-d40ebe0450ff"
      },
      "execution_count": 3,
      "outputs": [
        {
          "output_type": "stream",
          "name": "stdout",
          "text": [
            "['andre.perez@gmail.com', 'andre.perez@live.com', 'andre.perez@yahoo.com']\n"
          ]
        }
      ]
    },
    {
      "cell_type": "markdown",
      "source": [
        "- Programação orientação a objetos"
      ],
      "metadata": {
        "id": "__eHR6EQqxxH"
      }
    },
    {
      "cell_type": "code",
      "source": [
        "class Pessoa(object):\n",
        "\n",
        "  def __init__(self, nome: str, idade: int, documento: str):\n",
        "    self.nome = nome\n",
        "    self.idade = idade\n",
        "    self.documento = documento\n",
        "\n",
        "andre = Pessoa(nome=\"Andre\", idade=30, documento=\"123\")\n"
      ],
      "metadata": {
        "id": "qZgDOB8ymu47"
      },
      "execution_count": 4,
      "outputs": []
    }
  ]
}