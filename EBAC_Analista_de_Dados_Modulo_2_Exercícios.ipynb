{
  "nbformat": 4,
  "nbformat_minor": 0,
  "metadata": {
    "colab": {
      "provenance": [],
      "authorship_tag": "ABX9TyOjmtaNLkR8GW3FUW19VzVm",
      "include_colab_link": true
    },
    "kernelspec": {
      "name": "python3",
      "display_name": "Python 3"
    },
    "language_info": {
      "name": "python"
    }
  },
  "cells": [
    {
      "cell_type": "markdown",
      "metadata": {
        "id": "view-in-github",
        "colab_type": "text"
      },
      "source": [
        "<a href=\"https://colab.research.google.com/github/PedroHudson/EBAC_Analise_de_Dados/blob/main/EBAC_Analista_de_Dados_Modulo_2_Exerc%C3%ADcios.ipynb\" target=\"_parent\"><img src=\"https://colab.research.google.com/assets/colab-badge.svg\" alt=\"Open In Colab\"/></a>"
      ]
    },
    {
      "cell_type": "markdown",
      "source": [
        "**1º Exercício: Listas**"
      ],
      "metadata": {
        "id": "1ny6LfNeVlcC"
      }
    },
    {
      "cell_type": "markdown",
      "source": [
        "Esse exercício é composto por duas partes: a criação de uma lista e a criação de um ranking."
      ],
      "metadata": {
        "id": "ZQ1LvVxDe-nR"
      }
    },
    {
      "cell_type": "code",
      "source": [
        "filmes = ['Os Condenados de Shawshank', 'O Padrinho', 'O Cavaleiro das Trevas', 'O Padrinho: Parte II', 'Doze Homens em Fúria', 'A Lista de Schindler', 'O Senhor dos Anéis - O Regresso do Rei', 'Pulp Ficção', 'O Senhor dos Anéis - A Irmandade do Anel', 'O Bom, o Mau e o Vilão']\n",
        "\n",
        "print (filmes)"
      ],
      "metadata": {
        "colab": {
          "base_uri": "https://localhost:8080/"
        },
        "id": "I8A6iacqf4-7",
        "outputId": "f9cdc915-c041-4c84-f2b1-80a3a170cb8f"
      },
      "execution_count": 1,
      "outputs": [
        {
          "output_type": "stream",
          "name": "stdout",
          "text": [
            "['Os Condenados de Shawshank', 'O Padrinho', 'O Cavaleiro das Trevas', 'O Padrinho: Parte II', 'Doze Homens em Fúria', 'A Lista de Schindler', 'O Senhor dos Anéis - O Regresso do Rei', 'Pulp Ficção', 'O Senhor dos Anéis - A Irmandade do Anel', 'O Bom, o Mau e o Vilão']\n"
          ]
        }
      ]
    },
    {
      "cell_type": "code",
      "source": [
        "filmes.insert(0, 'O Padrinho')\n",
        "filmes.pop(2)\n",
        "print (filmes)"
      ],
      "metadata": {
        "colab": {
          "base_uri": "https://localhost:8080/"
        },
        "id": "X3DlLSBshEWD",
        "outputId": "c96b72bb-c16f-402e-f1ba-352dd97d7f0e"
      },
      "execution_count": 2,
      "outputs": [
        {
          "output_type": "stream",
          "name": "stdout",
          "text": [
            "['O Padrinho', 'Os Condenados de Shawshank', 'O Cavaleiro das Trevas', 'O Padrinho: Parte II', 'Doze Homens em Fúria', 'A Lista de Schindler', 'O Senhor dos Anéis - O Regresso do Rei', 'Pulp Ficção', 'O Senhor dos Anéis - A Irmandade do Anel', 'O Bom, o Mau e o Vilão']\n"
          ]
        }
      ]
    },
    {
      "cell_type": "markdown",
      "source": [
        "**2º Exercício: Conjuntos**"
      ],
      "metadata": {
        "id": "qn6WfSr6GUTB"
      }
    },
    {
      "cell_type": "code",
      "source": [
        "filmes.append('Pulp Ficção')\n",
        "filmes.append('O Senhor dos Anéis - A Irmandade do Anel')\n",
        "filmes.append('O Bom, o Mau e o Vilão')\n",
        "print (filmes)"
      ],
      "metadata": {
        "colab": {
          "base_uri": "https://localhost:8080/"
        },
        "id": "Ib1pa3YjGV_8",
        "outputId": "1fbc221b-d905-4549-ae1c-dcd5bd461199"
      },
      "execution_count": 3,
      "outputs": [
        {
          "output_type": "stream",
          "name": "stdout",
          "text": [
            "['O Padrinho', 'Os Condenados de Shawshank', 'O Cavaleiro das Trevas', 'O Padrinho: Parte II', 'Doze Homens em Fúria', 'A Lista de Schindler', 'O Senhor dos Anéis - O Regresso do Rei', 'Pulp Ficção', 'O Senhor dos Anéis - A Irmandade do Anel', 'O Bom, o Mau e o Vilão', 'Pulp Ficção', 'O Senhor dos Anéis - A Irmandade do Anel', 'O Bom, o Mau e o Vilão']\n"
          ]
        }
      ]
    },
    {
      "cell_type": "code",
      "source": [
        "filmes_corrigido = list(set(filmes))\n",
        "print (filmes_corrigido)"
      ],
      "metadata": {
        "colab": {
          "base_uri": "https://localhost:8080/"
        },
        "id": "jC-dORcQHLSx",
        "outputId": "1d54abca-730b-4cf8-90a0-482c830d15de"
      },
      "execution_count": 4,
      "outputs": [
        {
          "output_type": "stream",
          "name": "stdout",
          "text": [
            "['O Cavaleiro das Trevas', 'O Bom, o Mau e o Vilão', 'A Lista de Schindler', 'Doze Homens em Fúria', 'O Padrinho', 'O Senhor dos Anéis - O Regresso do Rei', 'O Padrinho: Parte II', 'O Senhor dos Anéis - A Irmandade do Anel', 'Os Condenados de Shawshank', 'Pulp Ficção']\n"
          ]
        }
      ]
    },
    {
      "cell_type": "markdown",
      "source": [
        "**3º Exercício: Dicionários**"
      ],
      "metadata": {
        "id": "2lLr9I9_H9ls"
      }
    },
    {
      "cell_type": "code",
      "source": [],
      "metadata": {
        "id": "3Q15Um9bH_Nw"
      },
      "execution_count": null,
      "outputs": []
    }
  ]
}