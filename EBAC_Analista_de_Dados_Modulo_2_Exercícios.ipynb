{
  "nbformat": 4,
  "nbformat_minor": 0,
  "metadata": {
    "colab": {
      "provenance": [],
      "authorship_tag": "ABX9TyNXbbyixH69Wjc1MGotEAMu",
      "include_colab_link": true
    },
    "kernelspec": {
      "name": "python3",
      "display_name": "Python 3"
    },
    "language_info": {
      "name": "python"
    }
  },
  "cells": [
    {
      "cell_type": "markdown",
      "metadata": {
        "id": "view-in-github",
        "colab_type": "text"
      },
      "source": [
        "<a href=\"https://colab.research.google.com/github/PedroHudson/EBAC_Analise_de_Dados/blob/main/EBAC_Analista_de_Dados_Modulo_2_Exerc%C3%ADcios.ipynb\" target=\"_parent\"><img src=\"https://colab.research.google.com/assets/colab-badge.svg\" alt=\"Open In Colab\"/></a>"
      ]
    },
    {
      "cell_type": "markdown",
      "source": [
        "**1º Exercício: Listas**"
      ],
      "metadata": {
        "id": "1ny6LfNeVlcC"
      }
    },
    {
      "cell_type": "markdown",
      "source": [
        "Esse exercício é composto por duas partes: a criação de uma lista e a criação de um ranking."
      ],
      "metadata": {
        "id": "ZQ1LvVxDe-nR"
      }
    },
    {
      "cell_type": "code",
      "source": [
        "filmes = ['Os Condenados de Shawshank', 'O Padrinho', 'O Cavaleiro das Trevas', 'O Padrinho: Parte II', 'Doze Homens em Fúria', 'A Lista de Schindler', 'O Senhor dos Anéis - O Regresso do Rei', 'Pulp Ficção', 'O Senhor dos Anéis - A Irmandade do Anel', 'O Bom, o Mau e o Vilão']\n",
        "\n",
        "print (filmes)"
      ],
      "metadata": {
        "colab": {
          "base_uri": "https://localhost:8080/"
        },
        "id": "I8A6iacqf4-7",
        "outputId": "f9cdc915-c041-4c84-f2b1-80a3a170cb8f"
      },
      "execution_count": 1,
      "outputs": [
        {
          "output_type": "stream",
          "name": "stdout",
          "text": [
            "['Os Condenados de Shawshank', 'O Padrinho', 'O Cavaleiro das Trevas', 'O Padrinho: Parte II', 'Doze Homens em Fúria', 'A Lista de Schindler', 'O Senhor dos Anéis - O Regresso do Rei', 'Pulp Ficção', 'O Senhor dos Anéis - A Irmandade do Anel', 'O Bom, o Mau e o Vilão']\n"
          ]
        }
      ]
    },
    {
      "cell_type": "code",
      "source": [
        "filmes.insert(0, 'O Padrinho')\n",
        "filmes.pop(2)\n",
        "print (filmes)"
      ],
      "metadata": {
        "colab": {
          "base_uri": "https://localhost:8080/"
        },
        "id": "X3DlLSBshEWD",
        "outputId": "c96b72bb-c16f-402e-f1ba-352dd97d7f0e"
      },
      "execution_count": 2,
      "outputs": [
        {
          "output_type": "stream",
          "name": "stdout",
          "text": [
            "['O Padrinho', 'Os Condenados de Shawshank', 'O Cavaleiro das Trevas', 'O Padrinho: Parte II', 'Doze Homens em Fúria', 'A Lista de Schindler', 'O Senhor dos Anéis - O Regresso do Rei', 'Pulp Ficção', 'O Senhor dos Anéis - A Irmandade do Anel', 'O Bom, o Mau e o Vilão']\n"
          ]
        }
      ]
    },
    {
      "cell_type": "markdown",
      "source": [
        "**2º Exercício: Conjuntos**"
      ],
      "metadata": {
        "id": "qn6WfSr6GUTB"
      }
    },
    {
      "cell_type": "code",
      "source": [
        "filmes.append('Pulp Ficção')\n",
        "filmes.append('O Senhor dos Anéis - A Irmandade do Anel')\n",
        "filmes.append('O Bom, o Mau e o Vilão')\n",
        "print (filmes)"
      ],
      "metadata": {
        "colab": {
          "base_uri": "https://localhost:8080/"
        },
        "id": "Ib1pa3YjGV_8",
        "outputId": "1fbc221b-d905-4549-ae1c-dcd5bd461199"
      },
      "execution_count": 3,
      "outputs": [
        {
          "output_type": "stream",
          "name": "stdout",
          "text": [
            "['O Padrinho', 'Os Condenados de Shawshank', 'O Cavaleiro das Trevas', 'O Padrinho: Parte II', 'Doze Homens em Fúria', 'A Lista de Schindler', 'O Senhor dos Anéis - O Regresso do Rei', 'Pulp Ficção', 'O Senhor dos Anéis - A Irmandade do Anel', 'O Bom, o Mau e o Vilão', 'Pulp Ficção', 'O Senhor dos Anéis - A Irmandade do Anel', 'O Bom, o Mau e o Vilão']\n"
          ]
        }
      ]
    },
    {
      "cell_type": "code",
      "source": [
        "filmes_corrigido = list(set(filmes))\n",
        "print (filmes_corrigido)"
      ],
      "metadata": {
        "colab": {
          "base_uri": "https://localhost:8080/"
        },
        "id": "jC-dORcQHLSx",
        "outputId": "1d54abca-730b-4cf8-90a0-482c830d15de"
      },
      "execution_count": 4,
      "outputs": [
        {
          "output_type": "stream",
          "name": "stdout",
          "text": [
            "['O Cavaleiro das Trevas', 'O Bom, o Mau e o Vilão', 'A Lista de Schindler', 'Doze Homens em Fúria', 'O Padrinho', 'O Senhor dos Anéis - O Regresso do Rei', 'O Padrinho: Parte II', 'O Senhor dos Anéis - A Irmandade do Anel', 'Os Condenados de Shawshank', 'Pulp Ficção']\n"
          ]
        }
      ]
    },
    {
      "cell_type": "markdown",
      "source": [
        "**3º Exercício: Dicionários**"
      ],
      "metadata": {
        "id": "2lLr9I9_H9ls"
      }
    },
    {
      "cell_type": "code",
      "source": [
        "filmes = {'nome-do-filme-1':'Os Condenados de Shawshank', 'ano-1': 1994, 'sinopse-1':'Ao longo de vários anos, dois condenados formam uma amizade, buscando consolo e, eventualmente, redenção através da compaixão básica.','nome-do-filme-2':'O Padrinho', 'ano-2': 1972,'sinopse-2':'Don Vito Corleone, chefe de uma família mafiosa, decide entregar seu império ao seu filho mais novo, Michael. No entanto, sua decisão coloca involuntariamente a vida de seus entes queridos em grave perigo.','nome-do-filme-3':'O Cavaleiro das Trevas','ano-3': 2008, 'sinopse-3': 'Quando a ameaça conhecida como Coringa causa estragos e caos no povo de Gotham, Batman deve aceitar um dos maiores testes psicológicos e físicos de sua capacidade de combater a injustiça.', 'nome-do-filme-4': 'O Padrinho: Parte II', 'ano-4': 1974\n",
        ", 'sinopse-4': 'O início da vida e carreira de Vito Corleone na cidade de Nova York dos anos 1920 é retratado, enquanto seu filho, Michael, expande e fortalece seu controle sobre o sindicato do crime familiar.', 'nome-do-filme-5': 'Doze Homens em Fúria', 'ano-5': 1957, 'sinopse-5': 'O júri num julgamento de homicídio na cidade de Nova Iorque está frustrado por um único membro cuja cautela cética os obriga a considerar mais cuidadosamente as provas antes de saltar para um veredicto precipitado.', 'nome-do-filme-6': 'A Lista de Schindler', 'ano-6': 1993, 'sinopse-6': 'Na Polónia ocupada pelos alemães durante a Segunda Guerra Mundial, o industrial Oskar Schindler gradualmente fica preocupado com a sua força de trabalho judaica depois de testemunhar a perseguição pelos nazis.', 'nome-do-filme-7': 'O Senhor dos Anéis - O Regresso do Rei', 'ano-7': 2003, 'sinopse-7': 'Gandalf e Aragorn lideram o Mundo dos Homens contra o exército de Sauron para desviar o olhar de Frodo e Sam enquanto eles se aproximam da Montanha da Perdição com o Um Anel.', 'nome-do-filme-8': 'Pulp Ficção', 'ano-8': 1994, 'sinopse-8': 'As vidas de dois assassinos da máfia, um boxeador, um gangster e sua esposa, e uma dupla de bandidos de restaurante se entrelaçam em quatro histórias de violência e redenção.', 'nome-do-filme-9': 'O Senhor dos Anéis - A Irmandade do Anel', 'ano-9': 2001, 'sinopse-9': 'Um humilde Hobbit do Condado e oito companheiros partem em uma jornada para destruir o poderoso Um Anel e salvar a Terra-média do Lorde das Trevas Sauron.', 'nome-do-filme-10': 'O Bom, o Mau e o Vilão', 'ano-10': 1966, 'sinopse-10': 'Um golpe de caça a recompensas une dois homens em uma aliança difícil contra um terceiro em uma corrida para encontrar uma fortuna em ouro enterrada em um cemitério remoto.'  }\n",
        "print(filmes)"
      ],
      "metadata": {
        "colab": {
          "base_uri": "https://localhost:8080/"
        },
        "id": "3Q15Um9bH_Nw",
        "outputId": "f2a1bfb3-0217-4b9d-fe0e-ee7535f06d5f"
      },
      "execution_count": 6,
      "outputs": [
        {
          "output_type": "stream",
          "name": "stdout",
          "text": [
            "{'nome-do-filme-1': 'Os Condenados de Shawshank', 'ano-1': 1994, 'sinopse-1': 'Ao longo de vários anos, dois condenados formam uma amizade, buscando consolo e, eventualmente, redenção através da compaixão básica.', 'nome-do-filme-2': 'O Padrinho', 'ano-2': 1972, 'sinopse-2': 'Don Vito Corleone, chefe de uma família mafiosa, decide entregar seu império ao seu filho mais novo, Michael. No entanto, sua decisão coloca involuntariamente a vida de seus entes queridos em grave perigo.', 'nome-do-filme-3': 'O Cavaleiro das Trevas', 'ano-3': 2008, 'sinopse-3': 'Quando a ameaça conhecida como Coringa causa estragos e caos no povo de Gotham, Batman deve aceitar um dos maiores testes psicológicos e físicos de sua capacidade de combater a injustiça.', 'nome-do-filme-4': 'O Padrinho: Parte II', 'ano-4': 1974, 'sinopse-4': 'O início da vida e carreira de Vito Corleone na cidade de Nova York dos anos 1920 é retratado, enquanto seu filho, Michael, expande e fortalece seu controle sobre o sindicato do crime familiar.', 'nome-do-filme-5': 'Doze Homens em Fúria', 'ano-5': 1957, 'sinopse-5': 'O júri num julgamento de homicídio na cidade de Nova Iorque está frustrado por um único membro cuja cautela cética os obriga a considerar mais cuidadosamente as provas antes de saltar para um veredicto precipitado.', 'nome-do-filme-6': 'A Lista de Schindler', 'ano-6': 1993, 'sinopse-6': 'Na Polónia ocupada pelos alemães durante a Segunda Guerra Mundial, o industrial Oskar Schindler gradualmente fica preocupado com a sua força de trabalho judaica depois de testemunhar a perseguição pelos nazis.', 'nome-do-filme-7': 'O Senhor dos Anéis - O Regresso do Rei', 'ano-7': 2003, 'sinopse-7': 'Gandalf e Aragorn lideram o Mundo dos Homens contra o exército de Sauron para desviar o olhar de Frodo e Sam enquanto eles se aproximam da Montanha da Perdição com o Um Anel.', 'nome-do-filme-8': 'Pulp Ficção', 'ano-8': 1994, 'sinopse-8': 'As vidas de dois assassinos da máfia, um boxeador, um gangster e sua esposa, e uma dupla de bandidos de restaurante se entrelaçam em quatro histórias de violência e redenção.', 'nome-do-filme-9': 'O Senhor dos Anéis - A Irmandade do Anel', 'ano-9': 2001, 'sinopse-9': 'Um humilde Hobbit do Condado e oito companheiros partem em uma jornada para destruir o poderoso Um Anel e salvar a Terra-média do Lorde das Trevas Sauron.', 'nome-do-filme-10': 'O Bom, o Mau e o Vilão', 'ano-10': 1966, 'sinopse-10': 'Um golpe de caça a recompensas une dois homens em uma aliança difícil contra um terceiro em uma corrida para encontrar uma fortuna em ouro enterrada em um cemitério remoto.'}\n"
          ]
        }
      ]
    }
  ]
}