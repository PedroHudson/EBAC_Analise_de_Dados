{
  "nbformat": 4,
  "nbformat_minor": 0,
  "metadata": {
    "colab": {
      "provenance": [],
      "authorship_tag": "ABX9TyN2oEzORXU38fBT1zyeQ9fq",
      "include_colab_link": true
    },
    "kernelspec": {
      "name": "python3",
      "display_name": "Python 3"
    },
    "language_info": {
      "name": "python"
    }
  },
  "cells": [
    {
      "cell_type": "markdown",
      "metadata": {
        "id": "view-in-github",
        "colab_type": "text"
      },
      "source": [
        "<a href=\"https://colab.research.google.com/github/PedroHudson/EBAC_Analise_de_Dados/blob/main/EBAC_Analista_de_Dados_Modulo_2_Exerc%C3%ADcios.ipynb\" target=\"_parent\"><img src=\"https://colab.research.google.com/assets/colab-badge.svg\" alt=\"Open In Colab\"/></a>"
      ]
    },
    {
      "cell_type": "markdown",
      "source": [
        "**1º Exercício: Listas**"
      ],
      "metadata": {
        "id": "1ny6LfNeVlcC"
      }
    },
    {
      "cell_type": "markdown",
      "source": [
        "Esse exercício é composto por duas partes: a criação de uma lista e a criação de um ranking."
      ],
      "metadata": {
        "id": "ZQ1LvVxDe-nR"
      }
    },
    {
      "cell_type": "code",
      "source": [
        "filmes = ['Os Condenados de Shawshank', 'O Padrinho', 'O Cavaleiro das Trevas', 'O Padrinho: Parte II', 'Doze Homens em Fúria', 'A Lista de Schindler', 'O Senhor dos Anéis - O Regresso do Rei', 'Pulp Ficção', 'O Senhor dos Anéis - A Irmandade do Anel', 'O Bom, o Mau e o Vilão']\n",
        "\n",
        "print (filmes)"
      ],
      "metadata": {
        "colab": {
          "base_uri": "https://localhost:8080/"
        },
        "id": "I8A6iacqf4-7",
        "outputId": "40446ba5-3baa-45b7-b5f7-01ed16ee2d73"
      },
      "execution_count": 1,
      "outputs": [
        {
          "output_type": "stream",
          "name": "stdout",
          "text": [
            "['Os Condenados de Shawshank', 'O Padrinho', 'O Cavaleiro das Trevas', 'O Padrinho: Parte II', 'Doze Homens em Fúria', 'A Lista de Schindler', 'O Senhor dos Anéis - O Regresso do Rei', 'Pulp Ficção', 'O Senhor dos Anéis - A Irmandade do Anel', 'O Bom, o Mau e o Vilão']\n"
          ]
        }
      ]
    },
    {
      "cell_type": "code",
      "source": [],
      "metadata": {
        "id": "X3DlLSBshEWD"
      },
      "execution_count": null,
      "outputs": []
    }
  ]
}