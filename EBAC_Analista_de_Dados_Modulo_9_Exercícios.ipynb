{
  "nbformat": 4,
  "nbformat_minor": 0,
  "metadata": {
    "colab": {
      "provenance": [],
      "authorship_tag": "ABX9TyPl6sCXChEGKmpP1rXeqArQ",
      "include_colab_link": true
    },
    "kernelspec": {
      "name": "python3",
      "display_name": "Python 3"
    },
    "language_info": {
      "name": "python"
    }
  },
  "cells": [
    {
      "cell_type": "markdown",
      "metadata": {
        "id": "view-in-github",
        "colab_type": "text"
      },
      "source": [
        "<a href=\"https://colab.research.google.com/github/PedroHudson/EBAC_Analise_de_Dados/blob/main/EBAC_Analista_de_Dados_Modulo_9_Exerc%C3%ADcios.ipynb\" target=\"_parent\"><img src=\"https://colab.research.google.com/assets/colab-badge.svg\" alt=\"Open In Colab\"/></a>"
      ]
    },
    {
      "cell_type": "markdown",
      "source": [
        "**1º Exercício: Script de extração**"
      ],
      "metadata": {
        "id": "GR8I-08D1W6e"
      }
    },
    {
      "cell_type": "markdown",
      "source": [
        "O script para extrair a taxa CDI do site da B3 foi adaptado para ser executado 10 vezes para gerar nossa base de dados. Na sua máquina, crie o arquivo extracao.py com o script indicado no material de apoio e execute-o com o comando indicado.\n",
        "\n",
        "No final, você deve ter o arquivo taxa-cdi.csv com os dados extraídos."
      ],
      "metadata": {
        "id": "wAe5peKh3AEl"
      }
    }
  ]
}