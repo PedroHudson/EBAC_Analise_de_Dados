{
  "nbformat": 4,
  "nbformat_minor": 0,
  "metadata": {
    "colab": {
      "provenance": [],
      "authorship_tag": "ABX9TyOgUM8vrvuHwns1azWiVbYM",
      "include_colab_link": true
    },
    "kernelspec": {
      "name": "python3",
      "display_name": "Python 3"
    },
    "language_info": {
      "name": "python"
    }
  },
  "cells": [
    {
      "cell_type": "markdown",
      "metadata": {
        "id": "view-in-github",
        "colab_type": "text"
      },
      "source": [
        "<a href=\"https://colab.research.google.com/github/PedroHudson/EBAC_Analise_de_Dados/blob/main/EBAC_Analista_de_Dados_Modulo_8_Exerc%C3%ADcios.ipynb\" target=\"_parent\"><img src=\"https://colab.research.google.com/assets/colab-badge.svg\" alt=\"Open In Colab\"/></a>"
      ]
    },
    {
      "cell_type": "markdown",
      "source": [
        "**Prepare o ambiente**"
      ],
      "metadata": {
        "id": "hpwhl6QV0FSS"
      }
    },
    {
      "cell_type": "markdown",
      "source": [
        "Neste exercício vamos utilizar a base de dados de ações da bolsa de valores dos EUA, a Dow Jones. Os dados estão disponíveis para *download* neste [link](https://archive.ics.uci.edu/ml/datasets/Dow+Jones+Index). Vamos utilizar o pacote `wget` para fazer o *download* dos dados."
      ],
      "metadata": {
        "id": "Ra5WyQ5O0QyW"
      }
    },
    {
      "cell_type": "markdown",
      "source": [
        "https://archive.ics.uci.edu/ml/datasets/Dow+Jones+Index\n"
      ],
      "metadata": {
        "id": "KH1EkHXcAG27"
      }
    },
    {
      "cell_type": "markdown",
      "source": [
        "1ª Parte:"
      ],
      "metadata": {
        "id": "iQuBMp9N0SQM"
      }
    },
    {
      "cell_type": "markdown",
      "source": [
        "Instale o pacote wget na versão 3.2."
      ],
      "metadata": {
        "id": "rxmaCgOU0eEE"
      }
    },
    {
      "cell_type": "code",
      "source": [
        "!pip install wget==3.2"
      ],
      "metadata": {
        "colab": {
          "base_uri": "https://localhost:8080/"
        },
        "id": "FDJE5yuK0iF4",
        "outputId": "5097123d-e4c4-4416-9cc4-b78a4da5deb9"
      },
      "execution_count": 1,
      "outputs": [
        {
          "output_type": "stream",
          "name": "stdout",
          "text": [
            "Requirement already satisfied: wget==3.2 in /usr/local/lib/python3.10/dist-packages (3.2)\n"
          ]
        }
      ]
    },
    {
      "cell_type": "markdown",
      "source": [
        "2ª Parte:"
      ],
      "metadata": {
        "id": "hMAZyQAE0xvA"
      }
    },
    {
      "cell_type": "markdown",
      "source": [
        "Faça o download dos dados no arquivo compactado dados.zip."
      ],
      "metadata": {
        "id": "4YUutKJH0yYS"
      }
    },
    {
      "cell_type": "code",
      "source": [
        "import wget\n",
        "\n",
        "wget.download(url='https://archive.ics.uci.edu/ml/machine-learning-databases/00312/dow_jones_index.zip', out='./dados.zip')"
      ],
      "metadata": {
        "colab": {
          "base_uri": "https://localhost:8080/",
          "height": 36
        },
        "id": "rtCJU9ND08IN",
        "outputId": "27718e75-e93c-49fc-bb9a-e2346c4c3dae"
      },
      "execution_count": 2,
      "outputs": [
        {
          "output_type": "execute_result",
          "data": {
            "text/plain": [
              "'./dados.zip'"
            ],
            "application/vnd.google.colaboratory.intrinsic+json": {
              "type": "string"
            }
          },
          "metadata": {},
          "execution_count": 2
        }
      ]
    },
    {
      "cell_type": "markdown",
      "source": [
        "3ª Parte:"
      ],
      "metadata": {
        "id": "-cIW3JMy2NHc"
      }
    },
    {
      "cell_type": "markdown",
      "source": [
        "Descompacte os dados na pasta dados com o pacote nativo zipfile."
      ],
      "metadata": {
        "id": "oW-Y2PAC2O4X"
      }
    },
    {
      "cell_type": "code",
      "source": [
        "import zipfile\n",
        "\n",
        "with zipfile.ZipFile('./dados.zip', 'r') as fp:\n",
        "  fp.extractall('./dados')"
      ],
      "metadata": {
        "id": "B7kUn8DK2RoW"
      },
      "execution_count": 3,
      "outputs": []
    },
    {
      "cell_type": "markdown",
      "source": [
        "4ª Parte:"
      ],
      "metadata": {
        "id": "s7yC4uTD_RrH"
      }
    },
    {
      "cell_type": "markdown",
      "source": [
        "Verifique a pasta dados criada, ela deve conter dois arquivos:\n",
        "\n",
        "dow_jones_index.data: um arquivo com os dados;\n",
        "\n",
        "dow_jones_index.names: um arquivo com a descrição completa dos dados.\n",
        "\n",
        "É possível observar que o arquivo de dados é um arquivo separado por vírgulas, o famoso csv. Vamos renomear o arquivo de dados para que ele tenha a extensão csv com o pacote nativo os."
      ],
      "metadata": {
        "id": "aKAJAL-__Su0"
      }
    },
    {
      "cell_type": "markdown",
      "source": [
        "5ª Parte:"
      ],
      "metadata": {
        "id": "EYBKw9CDBVvg"
      }
    },
    {
      "cell_type": "markdown",
      "source": [
        "Renomeie o arquivo com o pacote nativo os.\n",
        "\n",
        "Abra o arquivo e o Google Colab irá apresentar uma visualização bem legal dos dados"
      ],
      "metadata": {
        "id": "qNgePf4jBZFF"
      }
    },
    {
      "cell_type": "code",
      "source": [
        "import os\n",
        "\n",
        "os.rename('./dados/dow_jones_index.data', './dados/dow_jones_index.csv')"
      ],
      "metadata": {
        "id": "PbVhZP5O_Zpx"
      },
      "execution_count": 4,
      "outputs": []
    }
  ]
}