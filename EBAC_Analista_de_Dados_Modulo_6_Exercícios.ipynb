{
  "nbformat": 4,
  "nbformat_minor": 0,
  "metadata": {
    "colab": {
      "provenance": [],
      "authorship_tag": "ABX9TyP31+rqAV9GdfsLJBiRZimv",
      "include_colab_link": true
    },
    "kernelspec": {
      "name": "python3",
      "display_name": "Python 3"
    },
    "language_info": {
      "name": "python"
    }
  },
  "cells": [
    {
      "cell_type": "markdown",
      "metadata": {
        "id": "view-in-github",
        "colab_type": "text"
      },
      "source": [
        "<a href=\"https://colab.research.google.com/github/PedroHudson/EBAC_Analise_de_Dados/blob/main/EBAC_Analista_de_Dados_Modulo_6_Exerc%C3%ADcios.ipynb\" target=\"_parent\"><img src=\"https://colab.research.google.com/assets/colab-badge.svg\" alt=\"Open In Colab\"/></a>"
      ]
    },
    {
      "cell_type": "markdown",
      "source": [
        "**Prepare o ambiente**"
      ],
      "metadata": {
        "id": "gVNdUMT5QAj5"
      }
    },
    {
      "cell_type": "markdown",
      "source": [
        "Vamos trabalhar com os arquivos de csv e txt definidos no material de apoio. Execute cada uma das células de código para escrever os arquivos na sua máquina virtual."
      ],
      "metadata": {
        "id": "CvKVl7xzQDv8"
      }
    },
    {
      "cell_type": "markdown",
      "source": [
        "* **carros.csv**: arquivo csv com informações sobre carros (venda, manutenção, portas, etc.)."
      ],
      "metadata": {
        "id": "NvEns-hkQcKY"
      }
    },
    {
      "cell_type": "code",
      "source": [
        "%%writefile carros.csv\n",
        "id,valor_venda,valor_manutencao,portas,pessoas,porta_malas\n",
        "1,vhigh,med,2,2,small\n",
        "2,med,vhigh,2,2,small\n",
        "3,low,vhigh,2,2,small\n",
        "4,low,high,2,2,small\n",
        "5,low,high,2,2,small\n",
        "6,low,high,4,4,big\n",
        "7,low,high,4,4,big\n",
        "8,low,med,2,2,small\n",
        "9,low,med,2,2,small\n",
        "10,low,med,2,2,small\n",
        "11,low,med,4,4,big\n",
        "12,low,low,2,2,small\n",
        "13,low,low,4,4,small\n",
        "14,low,low,4,4,med"
      ],
      "metadata": {
        "colab": {
          "base_uri": "https://localhost:8080/"
        },
        "id": "qTq_yw_2QdpO",
        "outputId": "78126cf0-0999-4f9d-c945-a870705085bc"
      },
      "execution_count": 1,
      "outputs": [
        {
          "output_type": "stream",
          "name": "stdout",
          "text": [
            "Writing carros.csv\n"
          ]
        }
      ]
    },
    {
      "cell_type": "markdown",
      "source": [
        "* **musica.txt**: arquivo texto com a letra da música Roda Viva do Chico Buarque."
      ],
      "metadata": {
        "id": "uurowFo_Qtlj"
      }
    },
    {
      "cell_type": "code",
      "source": [
        "%%writefile musica.txt\n",
        "Roda Viva\n",
        "Chico Buarque\n",
        "\n",
        "Tem dias que a gente se sente\n",
        "Como quem partiu ou morreu\n",
        "A gente estancou de repente\n",
        "Ou foi o mundo então que cresceu\n",
        "A gente quer ter voz ativa\n",
        "No nosso destino mandar\n",
        "Mas eis que chega a roda viva\n",
        "E carrega o destino pra lá\n",
        "\n",
        "Roda mundo, roda-gigante\n",
        "Roda moinho, roda pião\n",
        "\n",
        "O tempo rodou num instante\n",
        "Nas voltas do meu coração\n",
        "A gente vai contra a corrente\n",
        "Até não poder resistir\n",
        "Na volta do barco é que sente\n",
        "O quanto deixou de cumprir\n",
        "Faz tempo que a gente cultiva\n",
        "A mais linda roseira que há\n",
        "Mas eis que chega a roda viva\n",
        "E carrega a roseira pra lá\n",
        "\n",
        "Roda mundo, roda-gigante\n",
        "Roda moinho, roda pião"
      ],
      "metadata": {
        "colab": {
          "base_uri": "https://localhost:8080/"
        },
        "id": "gQzu3OyFQu3Y",
        "outputId": "3d40fc4f-051c-44b7-8c00-95d078eb8d66"
      },
      "execution_count": 2,
      "outputs": [
        {
          "output_type": "stream",
          "name": "stdout",
          "text": [
            "Writing musica.txt\n"
          ]
        }
      ]
    },
    {
      "cell_type": "markdown",
      "source": [
        "**1º Exercício: Classe para ler arquivos de texto**"
      ],
      "metadata": {
        "id": "-2lfAo7mQ2hn"
      }
    },
    {
      "cell_type": "markdown",
      "source": [
        "Parte 1:"
      ],
      "metadata": {
        "id": "5MlHKrBWYTEa"
      }
    },
    {
      "cell_type": "markdown",
      "source": [
        "Crie a classe `ArquivoTexto`. Ela deve conter os seguintes atributos:\n",
        "\n",
        "*   `self.arquivo`: Atributo do tipo `str` com o nome do arquivo;\n",
        "*   `self.conteudo`: Atributo do tipo `list` onde cada elemento é uma linha do arquivo;\n",
        "\n",
        "A classe também deve conter o seguinte método:\n",
        "\n",
        "*   `self.extrair_linha`: Método que recebe como parâmetro o número da linha e retorna o seu conteúdo."
      ],
      "metadata": {
        "id": "p5WMJ7auQ6OI"
      }
    },
    {
      "cell_type": "code",
      "source": [
        "class ArquivoTexto(object):\n",
        "\n",
        "  def __init__(self, arquivo: str):\n",
        "    self.arquivo = arquivo\n",
        "    self.conteudo = self._extrair_conteudo()\n",
        "\n",
        "  def _extrair_conteudo(self):\n",
        "    conteudo = list()\n",
        "    with open (file = self.arquivo, mode = 'r', encoding = 'utf8') as arquivo:\n",
        "      conteudo = arquivo.readlines()\n",
        "    return conteudo\n",
        "\n",
        "  def extrair_linha(self, numero_linha: int):\n",
        "    linha = self.conteudo[numero_linha-1]\n",
        "    return linha"
      ],
      "metadata": {
        "id": "KONLNH_pQ_jM"
      },
      "execution_count": 9,
      "outputs": []
    },
    {
      "cell_type": "code",
      "source": [
        "arquivo_texto = ArquivoTexto(arquivo='musica.txt')"
      ],
      "metadata": {
        "id": "BTAfHKbBnbof"
      },
      "execution_count": 10,
      "outputs": []
    },
    {
      "cell_type": "code",
      "source": [
        "arquivo_texto._extrair_conteudo()"
      ],
      "metadata": {
        "colab": {
          "base_uri": "https://localhost:8080/"
        },
        "id": "iKgpVNPloFjQ",
        "outputId": "2d5f28d8-1f8f-41ee-fdb6-54e3284bc3fe"
      },
      "execution_count": 11,
      "outputs": [
        {
          "output_type": "execute_result",
          "data": {
            "text/plain": [
              "['Roda Viva\\n',\n",
              " 'Chico Buarque\\n',\n",
              " '\\n',\n",
              " 'Tem dias que a gente se sente\\n',\n",
              " 'Como quem partiu ou morreu\\n',\n",
              " 'A gente estancou de repente\\n',\n",
              " 'Ou foi o mundo então que cresceu\\n',\n",
              " 'A gente quer ter voz ativa\\n',\n",
              " 'No nosso destino mandar\\n',\n",
              " 'Mas eis que chega a roda viva\\n',\n",
              " 'E carrega o destino pra lá\\n',\n",
              " '\\n',\n",
              " 'Roda mundo, roda-gigante\\n',\n",
              " 'Roda moinho, roda pião\\n',\n",
              " '\\n',\n",
              " 'O tempo rodou num instante\\n',\n",
              " 'Nas voltas do meu coração\\n',\n",
              " 'A gente vai contra a corrente\\n',\n",
              " 'Até não poder resistir\\n',\n",
              " 'Na volta do barco é que sente\\n',\n",
              " 'O quanto deixou de cumprir\\n',\n",
              " 'Faz tempo que a gente cultiva\\n',\n",
              " 'A mais linda roseira que há\\n',\n",
              " 'Mas eis que chega a roda viva\\n',\n",
              " 'E carrega a roseira pra lá\\n',\n",
              " '\\n',\n",
              " 'Roda mundo, roda-gigante\\n',\n",
              " 'Roda moinho, roda pião\\n']"
            ]
          },
          "metadata": {},
          "execution_count": 11
        }
      ]
    },
    {
      "cell_type": "markdown",
      "source": [
        "Parte 2:"
      ],
      "metadata": {
        "id": "HRAxlo94YVmN"
      }
    },
    {
      "cell_type": "markdown",
      "source": [
        "Utilize o código abaixo para testar sua classe."
      ],
      "metadata": {
        "id": "hCSb_5sjYIAo"
      }
    },
    {
      "cell_type": "code",
      "source": [
        "arquivo_texto = ArquivoTexto(arquivo='musica.txt')\n",
        "\n",
        "numero_linha = 1\n",
        "print(arquivo_texto.extrair_linha(numero_linha=numero_linha)) # Roda Viva\n",
        "\n",
        "numero_linha = 10\n",
        "print(arquivo_texto.extrair_linha(numero_linha=numero_linha)) # Mas eis que chega a roda viva"
      ],
      "metadata": {
        "colab": {
          "base_uri": "https://localhost:8080/"
        },
        "id": "PCIMxC-mYJBl",
        "outputId": "eb9c979f-b5d3-4637-bbdd-6a1210e1185c"
      },
      "execution_count": 12,
      "outputs": [
        {
          "output_type": "stream",
          "name": "stdout",
          "text": [
            "Roda Viva\n",
            "\n",
            "Mas eis que chega a roda viva\n",
            "\n"
          ]
        }
      ]
    },
    {
      "cell_type": "markdown",
      "source": [
        "**2º Exercício: Classe para ler arquivos de csv**"
      ],
      "metadata": {
        "id": "_LA2lxGEZBaX"
      }
    },
    {
      "cell_type": "markdown",
      "source": [
        "Parte 1:"
      ],
      "metadata": {
        "id": "0Qzb9D1zZFy8"
      }
    },
    {
      "cell_type": "markdown",
      "source": [
        "Crie a classe `ArquivoCSV`. Ela deve extender (herdar) a classe `ArquivoTexto` para reaproveitar os seus atributos (`self.arquivo` e `self.conteudo`) e método (`self.extrair_linha`). Além disso, adicione o seguinte atributo:\n",
        "\n",
        "*   `self.colunas`: Atributo do tipo `list` onde os elementos são os nome das colunas;\n",
        "\n",
        "A classe também deve conter o seguinte método:\n",
        "\n",
        "*   `self.extrair_coluna_da_linha`: Método que recebe como parâmetro o numero da linha e o indice da coluna e retorna o valor em questão."
      ],
      "metadata": {
        "id": "USOdBPF1ZHoF"
      }
    },
    {
      "cell_type": "code",
      "source": [
        "class ArquivoCSV(ArquivoTexto):\n",
        "\n",
        "  def __init__(self, arquivo: str):\n",
        "\n",
        "    ...\n",
        "    self.colunas = ...\n",
        "\n",
        "  def extrair_coluna_da_linha(self, numero_linha: int, numero_coluna: int):\n",
        "    ..."
      ],
      "metadata": {
        "id": "DodY4kStZRUH"
      },
      "execution_count": null,
      "outputs": []
    },
    {
      "cell_type": "markdown",
      "source": [
        "Parte 2:"
      ],
      "metadata": {
        "id": "IupRE3nFZU87"
      }
    },
    {
      "cell_type": "markdown",
      "source": [
        "Utilize o código abaixo para testar sua classe."
      ],
      "metadata": {
        "id": "WNOWRHYnZV3y"
      }
    },
    {
      "cell_type": "code",
      "source": [
        "arquivo_csv = ArquivoCSV(arquivo='carros.csv')\n",
        "\n",
        "numero_linha = 1\n",
        "print(arquivo_csv.extrair_linha(numero_linha=numero_linha)) # id,valor_venda,valor_manutencao,portas,pessoas,porta_malas\n",
        "\n",
        "print(arquivo_csv.colunas) # ['id', 'valor_venda', 'valor_manutencao', 'portas', 'pessoas', 'porta_malas']\n",
        "\n",
        "numero_linha = 10\n",
        "print(arquivo_csv.extrair_linha(numero_linha=numero_linha)) # 9,low,med,2,2,small\n",
        "\n",
        "numero_linha = 10\n",
        "numero_coluna = 2\n",
        "print(arquivo_csv.extrair_coluna_da_linha(numero_linha=numero_linha, numero_coluna=numero_coluna)) # low"
      ],
      "metadata": {
        "id": "CEamx7C-ZaX1"
      },
      "execution_count": null,
      "outputs": []
    }
  ]
}